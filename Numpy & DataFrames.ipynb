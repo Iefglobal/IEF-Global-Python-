{
 "cells": [
  {
   "cell_type": "code",
   "execution_count": 2,
   "metadata": {},
   "outputs": [],
   "source": [
    "from numpy.random import randn as rn"
   ]
  },
  {
   "cell_type": "code",
   "execution_count": 20,
   "metadata": {},
   "outputs": [],
   "source": [
    "import numpy as np"
   ]
  },
  {
   "cell_type": "code",
   "execution_count": 21,
   "metadata": {},
   "outputs": [],
   "source": [
    "i = rn(5,4)"
   ]
  },
  {
   "cell_type": "code",
   "execution_count": 8,
   "metadata": {},
   "outputs": [
    {
     "data": {
      "text/plain": [
       "array([[-1.16986349, -0.85084261, -1.86363375, -0.11964915],\n",
       "       [-0.50767909, -1.48674646,  0.44657932,  0.71077338],\n",
       "       [ 0.5514984 , -0.02796628, -0.3214022 , -1.38175473],\n",
       "       [-1.21730665, -1.27932979, -1.01963835, -0.58945993],\n",
       "       [ 0.01526184, -0.66761227,  0.16670704,  2.31565529]])"
      ]
     },
     "execution_count": 8,
     "metadata": {},
     "output_type": "execute_result"
    }
   ],
   "source": [
    "i"
   ]
  },
  {
   "cell_type": "code",
   "execution_count": 10,
   "metadata": {},
   "outputs": [],
   "source": [
    "import pandas as pd"
   ]
  },
  {
   "cell_type": "code",
   "execution_count": 12,
   "metadata": {},
   "outputs": [],
   "source": [
    "df = pd.DataFrame(i)"
   ]
  },
  {
   "cell_type": "code",
   "execution_count": 14,
   "metadata": {},
   "outputs": [
    {
     "data": {
      "text/html": [
       "<div>\n",
       "<style scoped>\n",
       "    .dataframe tbody tr th:only-of-type {\n",
       "        vertical-align: middle;\n",
       "    }\n",
       "\n",
       "    .dataframe tbody tr th {\n",
       "        vertical-align: top;\n",
       "    }\n",
       "\n",
       "    .dataframe thead th {\n",
       "        text-align: right;\n",
       "    }\n",
       "</style>\n",
       "<table border=\"1\" class=\"dataframe\">\n",
       "  <thead>\n",
       "    <tr style=\"text-align: right;\">\n",
       "      <th></th>\n",
       "      <th>0</th>\n",
       "      <th>1</th>\n",
       "      <th>2</th>\n",
       "      <th>3</th>\n",
       "    </tr>\n",
       "  </thead>\n",
       "  <tbody>\n",
       "    <tr>\n",
       "      <td>0</td>\n",
       "      <td>-1.169863</td>\n",
       "      <td>-0.850843</td>\n",
       "      <td>-1.863634</td>\n",
       "      <td>-0.119649</td>\n",
       "    </tr>\n",
       "    <tr>\n",
       "      <td>1</td>\n",
       "      <td>-0.507679</td>\n",
       "      <td>-1.486746</td>\n",
       "      <td>0.446579</td>\n",
       "      <td>0.710773</td>\n",
       "    </tr>\n",
       "    <tr>\n",
       "      <td>2</td>\n",
       "      <td>0.551498</td>\n",
       "      <td>-0.027966</td>\n",
       "      <td>-0.321402</td>\n",
       "      <td>-1.381755</td>\n",
       "    </tr>\n",
       "    <tr>\n",
       "      <td>3</td>\n",
       "      <td>-1.217307</td>\n",
       "      <td>-1.279330</td>\n",
       "      <td>-1.019638</td>\n",
       "      <td>-0.589460</td>\n",
       "    </tr>\n",
       "    <tr>\n",
       "      <td>4</td>\n",
       "      <td>0.015262</td>\n",
       "      <td>-0.667612</td>\n",
       "      <td>0.166707</td>\n",
       "      <td>2.315655</td>\n",
       "    </tr>\n",
       "  </tbody>\n",
       "</table>\n",
       "</div>"
      ],
      "text/plain": [
       "          0         1         2         3\n",
       "0 -1.169863 -0.850843 -1.863634 -0.119649\n",
       "1 -0.507679 -1.486746  0.446579  0.710773\n",
       "2  0.551498 -0.027966 -0.321402 -1.381755\n",
       "3 -1.217307 -1.279330 -1.019638 -0.589460\n",
       "4  0.015262 -0.667612  0.166707  2.315655"
      ]
     },
     "execution_count": 14,
     "metadata": {},
     "output_type": "execute_result"
    }
   ],
   "source": [
    "df"
   ]
  },
  {
   "cell_type": "code",
   "execution_count": 16,
   "metadata": {},
   "outputs": [],
   "source": [
    "row = ['a','b','c','d','e']\n",
    "col =['f','g','h','i']"
   ]
  },
  {
   "cell_type": "code",
   "execution_count": 18,
   "metadata": {},
   "outputs": [],
   "source": [
    "df = pd.DataFrame(i, index=row, columns=col)"
   ]
  },
  {
   "cell_type": "code",
   "execution_count": 22,
   "metadata": {},
   "outputs": [
    {
     "data": {
      "text/html": [
       "<div>\n",
       "<style scoped>\n",
       "    .dataframe tbody tr th:only-of-type {\n",
       "        vertical-align: middle;\n",
       "    }\n",
       "\n",
       "    .dataframe tbody tr th {\n",
       "        vertical-align: top;\n",
       "    }\n",
       "\n",
       "    .dataframe thead th {\n",
       "        text-align: right;\n",
       "    }\n",
       "</style>\n",
       "<table border=\"1\" class=\"dataframe\">\n",
       "  <thead>\n",
       "    <tr style=\"text-align: right;\">\n",
       "      <th></th>\n",
       "      <th>f</th>\n",
       "      <th>g</th>\n",
       "      <th>h</th>\n",
       "      <th>i</th>\n",
       "    </tr>\n",
       "  </thead>\n",
       "  <tbody>\n",
       "    <tr>\n",
       "      <td>a</td>\n",
       "      <td>-1.169863</td>\n",
       "      <td>-0.850843</td>\n",
       "      <td>-1.863634</td>\n",
       "      <td>-0.119649</td>\n",
       "    </tr>\n",
       "    <tr>\n",
       "      <td>b</td>\n",
       "      <td>-0.507679</td>\n",
       "      <td>-1.486746</td>\n",
       "      <td>0.446579</td>\n",
       "      <td>0.710773</td>\n",
       "    </tr>\n",
       "    <tr>\n",
       "      <td>c</td>\n",
       "      <td>0.551498</td>\n",
       "      <td>-0.027966</td>\n",
       "      <td>-0.321402</td>\n",
       "      <td>-1.381755</td>\n",
       "    </tr>\n",
       "    <tr>\n",
       "      <td>d</td>\n",
       "      <td>-1.217307</td>\n",
       "      <td>-1.279330</td>\n",
       "      <td>-1.019638</td>\n",
       "      <td>-0.589460</td>\n",
       "    </tr>\n",
       "    <tr>\n",
       "      <td>e</td>\n",
       "      <td>0.015262</td>\n",
       "      <td>-0.667612</td>\n",
       "      <td>0.166707</td>\n",
       "      <td>2.315655</td>\n",
       "    </tr>\n",
       "  </tbody>\n",
       "</table>\n",
       "</div>"
      ],
      "text/plain": [
       "          f         g         h         i\n",
       "a -1.169863 -0.850843 -1.863634 -0.119649\n",
       "b -0.507679 -1.486746  0.446579  0.710773\n",
       "c  0.551498 -0.027966 -0.321402 -1.381755\n",
       "d -1.217307 -1.279330 -1.019638 -0.589460\n",
       "e  0.015262 -0.667612  0.166707  2.315655"
      ]
     },
     "execution_count": 22,
     "metadata": {},
     "output_type": "execute_result"
    }
   ],
   "source": [
    "df"
   ]
  },
  {
   "cell_type": "code",
   "execution_count": 27,
   "metadata": {},
   "outputs": [
    {
     "data": {
      "text/plain": [
       "pandas.core.frame.DataFrame"
      ]
     },
     "execution_count": 27,
     "metadata": {},
     "output_type": "execute_result"
    }
   ],
   "source": [
    "type(df[['f','g']])"
   ]
  },
  {
   "cell_type": "code",
   "execution_count": 29,
   "metadata": {},
   "outputs": [
    {
     "data": {
      "text/plain": [
       "a   -1.863634\n",
       "b    0.446579\n",
       "c   -0.321402\n",
       "d   -1.019638\n",
       "e    0.166707\n",
       "Name: h, dtype: float64"
      ]
     },
     "execution_count": 29,
     "metadata": {},
     "output_type": "execute_result"
    }
   ],
   "source": [
    "df['h']"
   ]
  },
  {
   "cell_type": "code",
   "execution_count": 33,
   "metadata": {},
   "outputs": [],
   "source": [
    "df['new'] = df['f'] + df['g']"
   ]
  },
  {
   "cell_type": "code",
   "execution_count": 35,
   "metadata": {},
   "outputs": [
    {
     "data": {
      "text/html": [
       "<div>\n",
       "<style scoped>\n",
       "    .dataframe tbody tr th:only-of-type {\n",
       "        vertical-align: middle;\n",
       "    }\n",
       "\n",
       "    .dataframe tbody tr th {\n",
       "        vertical-align: top;\n",
       "    }\n",
       "\n",
       "    .dataframe thead th {\n",
       "        text-align: right;\n",
       "    }\n",
       "</style>\n",
       "<table border=\"1\" class=\"dataframe\">\n",
       "  <thead>\n",
       "    <tr style=\"text-align: right;\">\n",
       "      <th></th>\n",
       "      <th>f</th>\n",
       "      <th>g</th>\n",
       "      <th>h</th>\n",
       "      <th>i</th>\n",
       "      <th>new</th>\n",
       "    </tr>\n",
       "  </thead>\n",
       "  <tbody>\n",
       "    <tr>\n",
       "      <td>a</td>\n",
       "      <td>-1.169863</td>\n",
       "      <td>-0.850843</td>\n",
       "      <td>-1.863634</td>\n",
       "      <td>-0.119649</td>\n",
       "      <td>-2.020706</td>\n",
       "    </tr>\n",
       "    <tr>\n",
       "      <td>b</td>\n",
       "      <td>-0.507679</td>\n",
       "      <td>-1.486746</td>\n",
       "      <td>0.446579</td>\n",
       "      <td>0.710773</td>\n",
       "      <td>-1.994426</td>\n",
       "    </tr>\n",
       "    <tr>\n",
       "      <td>c</td>\n",
       "      <td>0.551498</td>\n",
       "      <td>-0.027966</td>\n",
       "      <td>-0.321402</td>\n",
       "      <td>-1.381755</td>\n",
       "      <td>0.523532</td>\n",
       "    </tr>\n",
       "    <tr>\n",
       "      <td>d</td>\n",
       "      <td>-1.217307</td>\n",
       "      <td>-1.279330</td>\n",
       "      <td>-1.019638</td>\n",
       "      <td>-0.589460</td>\n",
       "      <td>-2.496636</td>\n",
       "    </tr>\n",
       "    <tr>\n",
       "      <td>e</td>\n",
       "      <td>0.015262</td>\n",
       "      <td>-0.667612</td>\n",
       "      <td>0.166707</td>\n",
       "      <td>2.315655</td>\n",
       "      <td>-0.652350</td>\n",
       "    </tr>\n",
       "  </tbody>\n",
       "</table>\n",
       "</div>"
      ],
      "text/plain": [
       "          f         g         h         i       new\n",
       "a -1.169863 -0.850843 -1.863634 -0.119649 -2.020706\n",
       "b -0.507679 -1.486746  0.446579  0.710773 -1.994426\n",
       "c  0.551498 -0.027966 -0.321402 -1.381755  0.523532\n",
       "d -1.217307 -1.279330 -1.019638 -0.589460 -2.496636\n",
       "e  0.015262 -0.667612  0.166707  2.315655 -0.652350"
      ]
     },
     "execution_count": 35,
     "metadata": {},
     "output_type": "execute_result"
    }
   ],
   "source": [
    "df"
   ]
  },
  {
   "cell_type": "code",
   "execution_count": 52,
   "metadata": {},
   "outputs": [],
   "source": [
    "df.drop('c', inplace = True )"
   ]
  },
  {
   "cell_type": "code",
   "execution_count": 43,
   "metadata": {},
   "outputs": [],
   "source": [
    "df.drop('f',inplace = True , axis = 1)"
   ]
  },
  {
   "cell_type": "code",
   "execution_count": 45,
   "metadata": {},
   "outputs": [
    {
     "data": {
      "text/html": [
       "<div>\n",
       "<style scoped>\n",
       "    .dataframe tbody tr th:only-of-type {\n",
       "        vertical-align: middle;\n",
       "    }\n",
       "\n",
       "    .dataframe tbody tr th {\n",
       "        vertical-align: top;\n",
       "    }\n",
       "\n",
       "    .dataframe thead th {\n",
       "        text-align: right;\n",
       "    }\n",
       "</style>\n",
       "<table border=\"1\" class=\"dataframe\">\n",
       "  <thead>\n",
       "    <tr style=\"text-align: right;\">\n",
       "      <th></th>\n",
       "      <th>g</th>\n",
       "      <th>h</th>\n",
       "      <th>i</th>\n",
       "      <th>new</th>\n",
       "    </tr>\n",
       "  </thead>\n",
       "  <tbody>\n",
       "    <tr>\n",
       "      <td>b</td>\n",
       "      <td>-1.486746</td>\n",
       "      <td>0.446579</td>\n",
       "      <td>0.710773</td>\n",
       "      <td>-1.994426</td>\n",
       "    </tr>\n",
       "    <tr>\n",
       "      <td>c</td>\n",
       "      <td>-0.027966</td>\n",
       "      <td>-0.321402</td>\n",
       "      <td>-1.381755</td>\n",
       "      <td>0.523532</td>\n",
       "    </tr>\n",
       "    <tr>\n",
       "      <td>d</td>\n",
       "      <td>-1.279330</td>\n",
       "      <td>-1.019638</td>\n",
       "      <td>-0.589460</td>\n",
       "      <td>-2.496636</td>\n",
       "    </tr>\n",
       "    <tr>\n",
       "      <td>e</td>\n",
       "      <td>-0.667612</td>\n",
       "      <td>0.166707</td>\n",
       "      <td>2.315655</td>\n",
       "      <td>-0.652350</td>\n",
       "    </tr>\n",
       "  </tbody>\n",
       "</table>\n",
       "</div>"
      ],
      "text/plain": [
       "          g         h         i       new\n",
       "b -1.486746  0.446579  0.710773 -1.994426\n",
       "c -0.027966 -0.321402 -1.381755  0.523532\n",
       "d -1.279330 -1.019638 -0.589460 -2.496636\n",
       "e -0.667612  0.166707  2.315655 -0.652350"
      ]
     },
     "execution_count": 45,
     "metadata": {},
     "output_type": "execute_result"
    }
   ],
   "source": [
    "df"
   ]
  },
  {
   "cell_type": "code",
   "execution_count": 54,
   "metadata": {},
   "outputs": [
    {
     "data": {
      "text/html": [
       "<div>\n",
       "<style scoped>\n",
       "    .dataframe tbody tr th:only-of-type {\n",
       "        vertical-align: middle;\n",
       "    }\n",
       "\n",
       "    .dataframe tbody tr th {\n",
       "        vertical-align: top;\n",
       "    }\n",
       "\n",
       "    .dataframe thead th {\n",
       "        text-align: right;\n",
       "    }\n",
       "</style>\n",
       "<table border=\"1\" class=\"dataframe\">\n",
       "  <thead>\n",
       "    <tr style=\"text-align: right;\">\n",
       "      <th></th>\n",
       "      <th>g</th>\n",
       "      <th>h</th>\n",
       "      <th>i</th>\n",
       "      <th>new</th>\n",
       "    </tr>\n",
       "  </thead>\n",
       "  <tbody>\n",
       "    <tr>\n",
       "      <td>d</td>\n",
       "      <td>-1.279330</td>\n",
       "      <td>-1.019638</td>\n",
       "      <td>-0.589460</td>\n",
       "      <td>-2.496636</td>\n",
       "    </tr>\n",
       "    <tr>\n",
       "      <td>e</td>\n",
       "      <td>-0.667612</td>\n",
       "      <td>0.166707</td>\n",
       "      <td>2.315655</td>\n",
       "      <td>-0.652350</td>\n",
       "    </tr>\n",
       "  </tbody>\n",
       "</table>\n",
       "</div>"
      ],
      "text/plain": [
       "          g         h         i       new\n",
       "d -1.279330 -1.019638 -0.589460 -2.496636\n",
       "e -0.667612  0.166707  2.315655 -0.652350"
      ]
     },
     "execution_count": 54,
     "metadata": {},
     "output_type": "execute_result"
    }
   ],
   "source": [
    "df"
   ]
  },
  {
   "cell_type": "code",
   "execution_count": 56,
   "metadata": {},
   "outputs": [],
   "source": [
    "j = rn(5,4)"
   ]
  },
  {
   "cell_type": "code",
   "execution_count": 58,
   "metadata": {},
   "outputs": [
    {
     "data": {
      "text/plain": [
       "array([[ 1.17996778,  0.44014184, -0.82419285, -0.39024107],\n",
       "       [ 0.35449173,  2.57418786, -0.74427265, -0.49342084],\n",
       "       [-1.02937056, -0.63841968, -1.9753575 ,  1.05631392],\n",
       "       [ 0.9998826 , -1.64080304, -0.03319738,  0.48973697],\n",
       "       [-0.62120316,  0.53578867,  0.30920674,  1.812352  ]])"
      ]
     },
     "execution_count": 58,
     "metadata": {},
     "output_type": "execute_result"
    }
   ],
   "source": [
    "j"
   ]
  },
  {
   "cell_type": "code",
   "execution_count": 60,
   "metadata": {},
   "outputs": [],
   "source": [
    "df1 = pd.DataFrame(j)"
   ]
  },
  {
   "cell_type": "code",
   "execution_count": 62,
   "metadata": {},
   "outputs": [
    {
     "data": {
      "text/html": [
       "<div>\n",
       "<style scoped>\n",
       "    .dataframe tbody tr th:only-of-type {\n",
       "        vertical-align: middle;\n",
       "    }\n",
       "\n",
       "    .dataframe tbody tr th {\n",
       "        vertical-align: top;\n",
       "    }\n",
       "\n",
       "    .dataframe thead th {\n",
       "        text-align: right;\n",
       "    }\n",
       "</style>\n",
       "<table border=\"1\" class=\"dataframe\">\n",
       "  <thead>\n",
       "    <tr style=\"text-align: right;\">\n",
       "      <th></th>\n",
       "      <th>0</th>\n",
       "      <th>1</th>\n",
       "      <th>2</th>\n",
       "      <th>3</th>\n",
       "    </tr>\n",
       "  </thead>\n",
       "  <tbody>\n",
       "    <tr>\n",
       "      <td>0</td>\n",
       "      <td>1.179968</td>\n",
       "      <td>0.440142</td>\n",
       "      <td>-0.824193</td>\n",
       "      <td>-0.390241</td>\n",
       "    </tr>\n",
       "    <tr>\n",
       "      <td>1</td>\n",
       "      <td>0.354492</td>\n",
       "      <td>2.574188</td>\n",
       "      <td>-0.744273</td>\n",
       "      <td>-0.493421</td>\n",
       "    </tr>\n",
       "    <tr>\n",
       "      <td>2</td>\n",
       "      <td>-1.029371</td>\n",
       "      <td>-0.638420</td>\n",
       "      <td>-1.975357</td>\n",
       "      <td>1.056314</td>\n",
       "    </tr>\n",
       "    <tr>\n",
       "      <td>3</td>\n",
       "      <td>0.999883</td>\n",
       "      <td>-1.640803</td>\n",
       "      <td>-0.033197</td>\n",
       "      <td>0.489737</td>\n",
       "    </tr>\n",
       "    <tr>\n",
       "      <td>4</td>\n",
       "      <td>-0.621203</td>\n",
       "      <td>0.535789</td>\n",
       "      <td>0.309207</td>\n",
       "      <td>1.812352</td>\n",
       "    </tr>\n",
       "  </tbody>\n",
       "</table>\n",
       "</div>"
      ],
      "text/plain": [
       "          0         1         2         3\n",
       "0  1.179968  0.440142 -0.824193 -0.390241\n",
       "1  0.354492  2.574188 -0.744273 -0.493421\n",
       "2 -1.029371 -0.638420 -1.975357  1.056314\n",
       "3  0.999883 -1.640803 -0.033197  0.489737\n",
       "4 -0.621203  0.535789  0.309207  1.812352"
      ]
     },
     "execution_count": 62,
     "metadata": {},
     "output_type": "execute_result"
    }
   ],
   "source": [
    "df1"
   ]
  },
  {
   "cell_type": "code",
   "execution_count": 64,
   "metadata": {},
   "outputs": [],
   "source": [
    "row = ['a','b','c','d','e']\n",
    "col =['f','g','h','i']"
   ]
  },
  {
   "cell_type": "code",
   "execution_count": 66,
   "metadata": {},
   "outputs": [],
   "source": [
    "df1 = pd.DataFrame(j, index=row, columns=col)"
   ]
  },
  {
   "cell_type": "code",
   "execution_count": 73,
   "metadata": {},
   "outputs": [
    {
     "data": {
      "text/html": [
       "<div>\n",
       "<style scoped>\n",
       "    .dataframe tbody tr th:only-of-type {\n",
       "        vertical-align: middle;\n",
       "    }\n",
       "\n",
       "    .dataframe tbody tr th {\n",
       "        vertical-align: top;\n",
       "    }\n",
       "\n",
       "    .dataframe thead th {\n",
       "        text-align: right;\n",
       "    }\n",
       "</style>\n",
       "<table border=\"1\" class=\"dataframe\">\n",
       "  <thead>\n",
       "    <tr style=\"text-align: right;\">\n",
       "      <th></th>\n",
       "      <th>f</th>\n",
       "      <th>g</th>\n",
       "      <th>h</th>\n",
       "      <th>i</th>\n",
       "    </tr>\n",
       "  </thead>\n",
       "  <tbody>\n",
       "    <tr>\n",
       "      <td>a</td>\n",
       "      <td>1.179968</td>\n",
       "      <td>0.440142</td>\n",
       "      <td>-0.824193</td>\n",
       "      <td>-0.390241</td>\n",
       "    </tr>\n",
       "    <tr>\n",
       "      <td>b</td>\n",
       "      <td>0.354492</td>\n",
       "      <td>2.574188</td>\n",
       "      <td>-0.744273</td>\n",
       "      <td>-0.493421</td>\n",
       "    </tr>\n",
       "    <tr>\n",
       "      <td>c</td>\n",
       "      <td>-1.029371</td>\n",
       "      <td>-0.638420</td>\n",
       "      <td>-1.975357</td>\n",
       "      <td>1.056314</td>\n",
       "    </tr>\n",
       "    <tr>\n",
       "      <td>d</td>\n",
       "      <td>0.999883</td>\n",
       "      <td>-1.640803</td>\n",
       "      <td>-0.033197</td>\n",
       "      <td>0.489737</td>\n",
       "    </tr>\n",
       "    <tr>\n",
       "      <td>e</td>\n",
       "      <td>-0.621203</td>\n",
       "      <td>0.535789</td>\n",
       "      <td>0.309207</td>\n",
       "      <td>1.812352</td>\n",
       "    </tr>\n",
       "  </tbody>\n",
       "</table>\n",
       "</div>"
      ],
      "text/plain": [
       "          f         g         h         i\n",
       "a  1.179968  0.440142 -0.824193 -0.390241\n",
       "b  0.354492  2.574188 -0.744273 -0.493421\n",
       "c -1.029371 -0.638420 -1.975357  1.056314\n",
       "d  0.999883 -1.640803 -0.033197  0.489737\n",
       "e -0.621203  0.535789  0.309207  1.812352"
      ]
     },
     "execution_count": 73,
     "metadata": {},
     "output_type": "execute_result"
    }
   ],
   "source": [
    "df1"
   ]
  },
  {
   "cell_type": "code",
   "execution_count": 78,
   "metadata": {},
   "outputs": [
    {
     "data": {
      "text/html": [
       "<div>\n",
       "<style scoped>\n",
       "    .dataframe tbody tr th:only-of-type {\n",
       "        vertical-align: middle;\n",
       "    }\n",
       "\n",
       "    .dataframe tbody tr th {\n",
       "        vertical-align: top;\n",
       "    }\n",
       "\n",
       "    .dataframe thead th {\n",
       "        text-align: right;\n",
       "    }\n",
       "</style>\n",
       "<table border=\"1\" class=\"dataframe\">\n",
       "  <thead>\n",
       "    <tr style=\"text-align: right;\">\n",
       "      <th></th>\n",
       "      <th>g</th>\n",
       "      <th>h</th>\n",
       "    </tr>\n",
       "  </thead>\n",
       "  <tbody>\n",
       "    <tr>\n",
       "      <td>b</td>\n",
       "      <td>2.574188</td>\n",
       "      <td>-0.744273</td>\n",
       "    </tr>\n",
       "    <tr>\n",
       "      <td>c</td>\n",
       "      <td>-0.638420</td>\n",
       "      <td>-1.975357</td>\n",
       "    </tr>\n",
       "  </tbody>\n",
       "</table>\n",
       "</div>"
      ],
      "text/plain": [
       "          g         h\n",
       "b  2.574188 -0.744273\n",
       "c -0.638420 -1.975357"
      ]
     },
     "execution_count": 78,
     "metadata": {},
     "output_type": "execute_result"
    }
   ],
   "source": [
    "df1.iloc[1:3,1:3]"
   ]
  },
  {
   "cell_type": "code",
   "execution_count": 81,
   "metadata": {},
   "outputs": [
    {
     "data": {
      "text/plain": [
       "f    1.179968\n",
       "g    0.440142\n",
       "h   -0.824193\n",
       "i   -0.390241\n",
       "Name: a, dtype: float64"
      ]
     },
     "execution_count": 81,
     "metadata": {},
     "output_type": "execute_result"
    }
   ],
   "source": [
    "df1.loc['a']"
   ]
  }
 ],
 "metadata": {
  "kernelspec": {
   "display_name": "Python 3",
   "language": "python",
   "name": "python3"
  },
  "language_info": {
   "codemirror_mode": {
    "name": "ipython",
    "version": 3
   },
   "file_extension": ".py",
   "mimetype": "text/x-python",
   "name": "python",
   "nbconvert_exporter": "python",
   "pygments_lexer": "ipython3",
   "version": "3.7.4"
  }
 },
 "nbformat": 4,
 "nbformat_minor": 2
}
